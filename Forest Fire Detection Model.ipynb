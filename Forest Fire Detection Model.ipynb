{
 "cells": [
  {
   "cell_type": "code",
   "execution_count": 1,
   "id": "943de789",
   "metadata": {},
   "outputs": [],
   "source": [
    "import pandas as pd\n",
    "\n",
    "import seaborn as sns\n",
    "\n",
    "from sklearn.ensemble import GradientBoostingRegressor\n",
    "from sklearn.ensemble import RandomForestRegressor\n",
    "from sklearn.ensemble import ExtraTreesRegressor\n",
    "from sklearn.tree import DecisionTreeRegressor\n",
    "from sklearn.neighbors import KNeighborsRegressor\n",
    "from sklearn.metrics import explained_variance_score\n",
    "from sklearn.metrics import mean_absolute_error"
   ]
  },
  {
   "cell_type": "code",
   "execution_count": 2,
   "id": "fba9814a",
   "metadata": {},
   "outputs": [],
   "source": [
    "df=pd.read_csv(\"New_data_sample.csv\")"
   ]
  },
  {
   "cell_type": "code",
   "execution_count": 3,
   "id": "f01375ea",
   "metadata": {},
   "outputs": [],
   "source": [
    "df.drop('Unnamed: 0', axis=1, inplace=True)"
   ]
  },
  {
   "cell_type": "code",
   "execution_count": 4,
   "id": "a9952efd",
   "metadata": {},
   "outputs": [
    {
     "data": {
      "text/html": [
       "<div>\n",
       "<style scoped>\n",
       "    .dataframe tbody tr th:only-of-type {\n",
       "        vertical-align: middle;\n",
       "    }\n",
       "\n",
       "    .dataframe tbody tr th {\n",
       "        vertical-align: top;\n",
       "    }\n",
       "\n",
       "    .dataframe thead th {\n",
       "        text-align: right;\n",
       "    }\n",
       "</style>\n",
       "<table border=\"1\" class=\"dataframe\">\n",
       "  <thead>\n",
       "    <tr style=\"text-align: right;\">\n",
       "      <th></th>\n",
       "      <th>X</th>\n",
       "      <th>Y</th>\n",
       "      <th>month</th>\n",
       "      <th>day</th>\n",
       "      <th>FFMC</th>\n",
       "      <th>DMC</th>\n",
       "      <th>DC</th>\n",
       "      <th>ISI</th>\n",
       "      <th>temp</th>\n",
       "      <th>RH</th>\n",
       "      <th>wind</th>\n",
       "      <th>rain</th>\n",
       "      <th>area</th>\n",
       "    </tr>\n",
       "  </thead>\n",
       "  <tbody>\n",
       "    <tr>\n",
       "      <th>0</th>\n",
       "      <td>6</td>\n",
       "      <td>5</td>\n",
       "      <td>4</td>\n",
       "      <td>4</td>\n",
       "      <td>81.5</td>\n",
       "      <td>9.1</td>\n",
       "      <td>55.2</td>\n",
       "      <td>2.7</td>\n",
       "      <td>5.8</td>\n",
       "      <td>54</td>\n",
       "      <td>5.8</td>\n",
       "      <td>0.0</td>\n",
       "      <td>4.61</td>\n",
       "    </tr>\n",
       "    <tr>\n",
       "      <th>1</th>\n",
       "      <td>4</td>\n",
       "      <td>4</td>\n",
       "      <td>3</td>\n",
       "      <td>1</td>\n",
       "      <td>87.6</td>\n",
       "      <td>52.2</td>\n",
       "      <td>103.8</td>\n",
       "      <td>5.0</td>\n",
       "      <td>11.0</td>\n",
       "      <td>46</td>\n",
       "      <td>5.8</td>\n",
       "      <td>0.0</td>\n",
       "      <td>0.00</td>\n",
       "    </tr>\n",
       "    <tr>\n",
       "      <th>2</th>\n",
       "      <td>3</td>\n",
       "      <td>4</td>\n",
       "      <td>8</td>\n",
       "      <td>1</td>\n",
       "      <td>91.5</td>\n",
       "      <td>145.4</td>\n",
       "      <td>608.2</td>\n",
       "      <td>10.7</td>\n",
       "      <td>17.1</td>\n",
       "      <td>43</td>\n",
       "      <td>5.4</td>\n",
       "      <td>0.0</td>\n",
       "      <td>0.00</td>\n",
       "    </tr>\n",
       "    <tr>\n",
       "      <th>3</th>\n",
       "      <td>6</td>\n",
       "      <td>5</td>\n",
       "      <td>4</td>\n",
       "      <td>4</td>\n",
       "      <td>81.5</td>\n",
       "      <td>9.1</td>\n",
       "      <td>55.2</td>\n",
       "      <td>2.7</td>\n",
       "      <td>5.8</td>\n",
       "      <td>54</td>\n",
       "      <td>5.8</td>\n",
       "      <td>0.0</td>\n",
       "      <td>10.93</td>\n",
       "    </tr>\n",
       "    <tr>\n",
       "      <th>4</th>\n",
       "      <td>3</td>\n",
       "      <td>3</td>\n",
       "      <td>9</td>\n",
       "      <td>6</td>\n",
       "      <td>92.2</td>\n",
       "      <td>102.3</td>\n",
       "      <td>751.5</td>\n",
       "      <td>8.4</td>\n",
       "      <td>24.2</td>\n",
       "      <td>27</td>\n",
       "      <td>3.1</td>\n",
       "      <td>0.0</td>\n",
       "      <td>6.58</td>\n",
       "    </tr>\n",
       "  </tbody>\n",
       "</table>\n",
       "</div>"
      ],
      "text/plain": [
       "   X  Y  month  day  FFMC    DMC     DC   ISI  temp  RH  wind  rain   area\n",
       "0  6  5      4    4  81.5    9.1   55.2   2.7   5.8  54   5.8   0.0   4.61\n",
       "1  4  4      3    1  87.6   52.2  103.8   5.0  11.0  46   5.8   0.0   0.00\n",
       "2  3  4      8    1  91.5  145.4  608.2  10.7  17.1  43   5.4   0.0   0.00\n",
       "3  6  5      4    4  81.5    9.1   55.2   2.7   5.8  54   5.8   0.0  10.93\n",
       "4  3  3      9    6  92.2  102.3  751.5   8.4  24.2  27   3.1   0.0   6.58"
      ]
     },
     "execution_count": 4,
     "metadata": {},
     "output_type": "execute_result"
    }
   ],
   "source": [
    "df.head()"
   ]
  },
  {
   "cell_type": "code",
   "execution_count": 5,
   "id": "f0c4dbd5",
   "metadata": {},
   "outputs": [],
   "source": [
    "#Assigning Dependent and independent variables\n",
    "X=df.drop('area',axis=1)\n",
    "Y=df['area']"
   ]
  },
  {
   "cell_type": "code",
   "execution_count": 6,
   "id": "3bd348ec",
   "metadata": {},
   "outputs": [
    {
     "name": "stdout",
     "output_type": "stream",
     "text": [
      "GradientBoostRegressor: 0.959011 (8.552991)\n",
      "RandomForestRegressor: 0.985782 (2.552747)\n",
      "ExtraTreesRegressor: 0.999933 (0.098450)\n",
      "Decision Tree: 0.999933 (0.098450)\n",
      "KNN Regressor: 0.597541 (11.348178)\n"
     ]
    }
   ],
   "source": [
    "#Selection of best model by Testing their Accuracy scores\n",
    "num_instances = len(X)\n",
    "\n",
    "models = []\n",
    "models.append(('GradientBoostRegressor', GradientBoostingRegressor()))\n",
    "models.append(('RandomForestRegressor',RandomForestRegressor()))\n",
    "models.append(('ExtraTreesRegressor', ExtraTreesRegressor()))\n",
    "models.append(('Decision Tree', DecisionTreeRegressor()))\n",
    "models.append(('KNN Regressor', KNeighborsRegressor()))\n",
    "\n",
    "# Evaluations\n",
    "results = []\n",
    "names = []\n",
    "scoring = []\n",
    "\n",
    "for name, model in models:\n",
    "    # Fit the model\n",
    "    model.fit(X, Y)\n",
    "    \n",
    "    predictions = model.predict(X)\n",
    "    \n",
    "    # Evaluate the model\n",
    "    score = explained_variance_score(Y, predictions)\n",
    "    mae = mean_absolute_error(predictions, Y)\n",
    "    # print(\"%s: %.2f%%\" % (model.metrics_names[1], scores[1]*100))\n",
    "    results.append(mae)\n",
    "    names.append(name)\n",
    "    \n",
    "    msg = \"%s: %f (%f)\" % (name, score, mae)\n",
    "    print(msg)"
   ]
  },
  {
   "cell_type": "code",
   "execution_count": 7,
   "id": "c771ec7a",
   "metadata": {},
   "outputs": [],
   "source": [
    "from sklearn.model_selection import train_test_split\n",
    "x_train,x_test,y_train,y_test = train_test_split(X,Y,test_size = 0.2 , random_state=0)"
   ]
  },
  {
   "cell_type": "code",
   "execution_count": 8,
   "id": "6cbe25f3",
   "metadata": {},
   "outputs": [
    {
     "data": {
      "text/plain": [
       "ExtraTreesRegressor(random_state=0)"
      ]
     },
     "execution_count": 8,
     "metadata": {},
     "output_type": "execute_result"
    }
   ],
   "source": [
    "#Since Extra Tree Regressor and Extra Tree Regressor Performs Better:\n",
    "#1) Extra Tree Regressor\n",
    "re = ExtraTreesRegressor(criterion='mse',random_state=0)\n",
    "re.fit(x_train,y_train)"
   ]
  },
  {
   "cell_type": "code",
   "execution_count": 9,
   "id": "fab7d934",
   "metadata": {},
   "outputs": [
    {
     "name": "stdout",
     "output_type": "stream",
     "text": [
      "Using Extra Trees Regressor: \n",
      "Test Accuracy: 93.29 %\n",
      "Train Accuracy: 100.00 %\n"
     ]
    }
   ],
   "source": [
    "test_accuracy=re.score(x_test,y_test)\n",
    "train_accuracy=re.score(x_train,y_train)\n",
    "print(\"Using Extra Trees Regressor: \")\n",
    "print(\"Test Accuracy: {:.2f} %\".format(test_accuracy*100))\n",
    "print(\"Train Accuracy: {:.2f} %\".format(train_accuracy*100))\n"
   ]
  },
  {
   "cell_type": "code",
   "execution_count": 10,
   "id": "01e3b90f",
   "metadata": {},
   "outputs": [
    {
     "data": {
      "text/plain": [
       "DecisionTreeRegressor(random_state=0)"
      ]
     },
     "execution_count": 10,
     "metadata": {},
     "output_type": "execute_result"
    }
   ],
   "source": [
    "#2) Decision Tree Regressor\n",
    "DTR = DecisionTreeRegressor(criterion='mse',random_state=0)\n",
    "DTR.fit(x_train,y_train)"
   ]
  },
  {
   "cell_type": "code",
   "execution_count": 12,
   "id": "3b2e2b75",
   "metadata": {},
   "outputs": [
    {
     "name": "stdout",
     "output_type": "stream",
     "text": [
      "Using Decision Tree Regressor: \n",
      "Test Accuracy: 99.10 %\n",
      "Train Accuracy: 100.00 %\n"
     ]
    }
   ],
   "source": [
    "test_accuracy1=DTR.score(x_test,y_test)\n",
    "train_accuracy1=DTR.score(x_train,y_train)\n",
    "print(\"Using Decision Tree Regressor: \")\n",
    "print(\"Test Accuracy: {:.2f} %\".format(test_accuracy1*100))\n",
    "print(\"Train Accuracy: {:.2f} %\".format(train_accuracy1*100))"
   ]
  },
  {
   "cell_type": "code",
   "execution_count": 13,
   "id": "58df018e",
   "metadata": {},
   "outputs": [
    {
     "data": {
      "text/plain": [
       "X          int64\n",
       "Y          int64\n",
       "month      int64\n",
       "day        int64\n",
       "FFMC     float64\n",
       "DMC      float64\n",
       "DC       float64\n",
       "ISI      float64\n",
       "temp     float64\n",
       "RH         int64\n",
       "wind     float64\n",
       "rain     float64\n",
       "dtype: object"
      ]
     },
     "execution_count": 13,
     "metadata": {},
     "output_type": "execute_result"
    }
   ],
   "source": [
    "#Input Format\n",
    "X.dtypes"
   ]
  },
  {
   "cell_type": "code",
   "execution_count": 14,
   "id": "5106106e",
   "metadata": {},
   "outputs": [],
   "source": [
    "# Categorising Forest Fire Damage Function\n",
    "def area_cat(area):\n",
    "    if area == 0.0:\n",
    "        return \"No damage\"\n",
    "    elif area <= 1:\n",
    "        return \"Low Damage\"\n",
    "    elif area <= 25:\n",
    "        return \"Moderate \"\n",
    "    elif area <= 100:\n",
    "        return \"High\"\n",
    "    else:\n",
    "        return \"Very High\""
   ]
  },
  {
   "cell_type": "code",
   "execution_count": 15,
   "id": "84b35619",
   "metadata": {},
   "outputs": [],
   "source": [
    "#Prediction Function\n",
    "def showPrediction(test_data):\n",
    "    pred=DTR.predict([test_data])\n",
    "    print(\"Area Burned: {} ha\".format(pred) )\n",
    "    print(\"Predicted: \",area_cat(pred))"
   ]
  },
  {
   "cell_type": "code",
   "execution_count": 16,
   "id": "2902dbf6",
   "metadata": {},
   "outputs": [
    {
     "name": "stdout",
     "output_type": "stream",
     "text": [
      "0.00 No damage\n",
      "26.00 High\n",
      "6.54 Moderate \n",
      "6.30 Moderate \n",
      "0.00 No damage\n",
      "36.85 High\n",
      "0.00 No damage\n",
      "1.61 Moderate \n",
      "1.43 Moderate \n",
      "12.64 Moderate \n",
      "2.47 Moderate \n",
      "0.00 No damage\n",
      "0.00 No damage\n",
      "42.87 High\n",
      "0.00 No damage\n",
      "0.00 No damage\n",
      "6.44 Moderate \n",
      "0.00 No damage\n",
      "0.00 No damage\n",
      "0.00 No damage\n",
      "746.28 Very High\n",
      "37.71 High\n",
      "0.00 No damage\n",
      "3.07 Moderate \n",
      "6.43 Moderate \n",
      "0.90 Low Damage\n",
      "1.36 Moderate \n",
      "0.00 No damage\n",
      "37.71 High\n",
      "0.00 No damage\n",
      "8.85 Moderate \n",
      "54.29 High\n",
      "3.07 Moderate \n",
      "0.00 No damage\n",
      "0.00 No damage\n",
      "0.00 No damage\n",
      "0.00 No damage\n",
      "0.00 No damage\n",
      "0.00 No damage\n",
      "95.18 High\n",
      "0.00 No damage\n",
      "0.00 No damage\n",
      "6.43 Moderate \n",
      "0.00 No damage\n",
      "86.45 High\n",
      "0.00 No damage\n",
      "0.00 No damage\n",
      "0.00 No damage\n",
      "3.64 Moderate \n",
      "0.00 No damage\n",
      "1.09 Moderate \n",
      "1.75 Moderate \n",
      "8.98 Moderate \n",
      "0.00 No damage\n",
      "8.31 Moderate \n",
      "0.00 No damage\n",
      "0.84 Low Damage\n",
      "0.00 No damage\n",
      "1.19 Moderate \n",
      "0.00 No damage\n",
      "6.36 Moderate \n",
      "2.47 Moderate \n",
      "10.08 Moderate \n",
      "95.18 High\n",
      "0.00 No damage\n",
      "0.00 No damage\n",
      "0.00 No damage\n",
      "2.00 Moderate \n",
      "0.00 No damage\n",
      "3.35 Moderate \n",
      "0.00 No damage\n",
      "0.00 No damage\n",
      "0.00 No damage\n",
      "3.94 Moderate \n",
      "0.00 No damage\n",
      "0.00 No damage\n",
      "1.61 Moderate \n",
      "7.31 Moderate \n",
      "9.27 Moderate \n",
      "95.18 High\n",
      "26.13 High\n",
      "15.64 Moderate \n",
      "0.00 No damage\n",
      "0.00 No damage\n",
      "1.47 Moderate \n",
      "0.00 No damage\n",
      "7.36 Moderate \n",
      "0.00 No damage\n",
      "3.71 Moderate \n",
      "5.44 Moderate \n",
      "0.00 No damage\n",
      "9.27 Moderate \n",
      "278.53 Very High\n",
      "0.00 No damage\n",
      "0.43 Low Damage\n",
      "9.27 Moderate \n",
      "16.00 Moderate \n",
      "0.00 No damage\n",
      "0.00 No damage\n",
      "0.43 Low Damage\n",
      "1.11 Moderate \n",
      "0.00 No damage\n",
      "0.00 No damage\n",
      "4.88 Moderate \n",
      "0.00 No damage\n",
      "13.05 Moderate \n",
      "4.95 Moderate \n",
      "1.76 Moderate \n",
      "2.53 Moderate \n",
      "6.96 Moderate \n",
      "0.00 No damage\n",
      "0.00 No damage\n",
      "4.25 Moderate \n",
      "0.00 No damage\n",
      "1.61 Moderate \n",
      "0.00 No damage\n",
      "7.40 Moderate \n",
      "3.33 Moderate \n",
      "0.00 No damage\n",
      "11.19 Moderate \n",
      "37.02 High\n",
      "11.06 Moderate \n",
      "0.00 No damage\n",
      "5.39 Moderate \n",
      "1.94 Moderate \n",
      "0.00 No damage\n",
      "15.83 Moderate \n",
      "13.05 Moderate \n",
      "0.00 No damage\n",
      "0.00 No damage\n",
      "1.23 Moderate \n",
      "71.30 High\n",
      "0.00 No damage\n",
      "0.00 No damage\n",
      "0.00 No damage\n",
      "2.74 Moderate \n",
      "0.00 No damage\n",
      "0.00 No damage\n",
      "6.61 Moderate \n",
      "1.61 Moderate \n",
      "19.23 Moderate \n",
      "0.84 Low Damage\n",
      "0.00 No damage\n",
      "2.13 Moderate \n",
      "9.36 Moderate \n",
      "11.53 Moderate \n",
      "0.00 No damage\n",
      "5.19 Moderate \n",
      "0.00 No damage\n",
      "2.47 Moderate \n",
      "27.35 High\n",
      "9.27 Moderate \n",
      "15.45 Moderate \n",
      "5.19 Moderate \n",
      "0.00 No damage\n",
      "29.48 High\n",
      "0.00 No damage\n",
      "0.00 No damage\n",
      "5.83 Moderate \n",
      "103.39 Very High\n",
      "15.64 Moderate \n",
      "1.61 Moderate \n",
      "0.00 No damage\n",
      "0.00 No damage\n",
      "1.72 Moderate \n",
      "0.00 No damage\n",
      "0.00 No damage\n",
      "0.00 No damage\n",
      "9.41 Moderate \n",
      "0.00 No damage\n",
      "0.00 No damage\n",
      "29.48 High\n",
      "7.02 Moderate \n",
      "1.23 Moderate \n",
      "6.43 Moderate \n",
      "0.00 No damage\n",
      "0.00 No damage\n",
      "0.00 No damage\n",
      "0.00 No damage\n",
      "0.00 No damage\n",
      "0.00 No damage\n",
      "0.00 No damage\n",
      "0.47 Low Damage\n",
      "2.44 Moderate \n",
      "7.77 Moderate \n",
      "0.00 No damage\n",
      "0.00 No damage\n",
      "103.39 Very High\n",
      "2.18 Moderate \n",
      "11.19 Moderate \n",
      "70.76 High\n",
      "0.00 No damage\n",
      "0.00 No damage\n",
      "3.94 Moderate \n",
      "2.14 Moderate \n",
      "0.00 No damage\n",
      "0.00 No damage\n",
      "6.58 Moderate \n",
      "0.00 No damage\n",
      "0.00 No damage\n"
     ]
    }
   ],
   "source": [
    "#Predicted values for the test_values\n",
    "pred=DTR.predict(x_test)\n",
    "for i in pred:\n",
    "    print(\"{:.2f} {}\".format(i,area_cat(i)))"
   ]
  },
  {
   "cell_type": "code",
   "execution_count": 17,
   "id": "570b6219",
   "metadata": {},
   "outputs": [
    {
     "name": "stdout",
     "output_type": "stream",
     "text": [
      "Area Burned: [0.24] ha\n",
      "Predicted:  Low Damage\n",
      "Area Burned: [0.] ha\n",
      "Predicted:  No damage\n"
     ]
    }
   ],
   "source": [
    "#Testing Data:\n",
    "test_data1 = [8,5,8,3,93.1,157.3,666.7,13.5,24,36,3.1,0]\n",
    "showPrediction(test_data1)\n",
    "\n",
    "test_data2 = [4,5,3,5,91.7,33.3,77.5,9,17.2,26,4.5,0]\n",
    "showPrediction(test_data2)"
   ]
  }
 ],
 "metadata": {
  "interpreter": {
   "hash": "6d46af94c2bbce495f1e668725902fa517c90b1782bcfe2fce0dd9868df553d3"
  },
  "kernelspec": {
   "display_name": "Python 3.8.8 64-bit ('base': conda)",
   "name": "python3"
  },
  "language_info": {
   "codemirror_mode": {
    "name": "ipython",
    "version": 3
   },
   "file_extension": ".py",
   "mimetype": "text/x-python",
   "name": "python",
   "nbconvert_exporter": "python",
   "pygments_lexer": "ipython3",
   "version": "3.8.8"
  }
 },
 "nbformat": 4,
 "nbformat_minor": 5
}
