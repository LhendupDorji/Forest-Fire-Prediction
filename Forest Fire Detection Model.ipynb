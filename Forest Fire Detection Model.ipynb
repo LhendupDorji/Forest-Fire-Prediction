{
 "cells": [
  {
   "cell_type": "code",
   "execution_count": 88,
   "id": "943de789",
   "metadata": {},
   "outputs": [],
   "source": [
    "#Importing Important Modules\n",
    "import pandas as pd\n",
    "import numpy as np\n",
    "import matplotlib.pyplot as plt\n",
    "\n",
    "from sklearn.ensemble import GradientBoostingRegressor\n",
    "from sklearn.ensemble import RandomForestRegressor\n",
    "from sklearn.ensemble import ExtraTreesRegressor\n",
    "from sklearn.tree import DecisionTreeRegressor\n",
    "from sklearn.neighbors import KNeighborsRegressor\n",
    "\n",
    "from sklearn.metrics import explained_variance_score\n",
    "from sklearn.metrics import mean_absolute_error\n",
    "from sklearn.metrics import mean_squared_error\n",
    "from sklearn.metrics import r2_score\n"
   ]
  },
  {
   "cell_type": "code",
   "execution_count": 69,
   "id": "fba9814a",
   "metadata": {},
   "outputs": [],
   "source": [
    "df=pd.read_csv(\"New_data_sample.csv\")"
   ]
  },
  {
   "cell_type": "code",
   "execution_count": 70,
   "id": "f01375ea",
   "metadata": {},
   "outputs": [],
   "source": [
    "df.drop('Unnamed: 0', axis=1, inplace=True)"
   ]
  },
  {
   "cell_type": "code",
   "execution_count": 71,
   "id": "a9952efd",
   "metadata": {},
   "outputs": [
    {
     "data": {
      "text/html": [
       "<div>\n",
       "<style scoped>\n",
       "    .dataframe tbody tr th:only-of-type {\n",
       "        vertical-align: middle;\n",
       "    }\n",
       "\n",
       "    .dataframe tbody tr th {\n",
       "        vertical-align: top;\n",
       "    }\n",
       "\n",
       "    .dataframe thead th {\n",
       "        text-align: right;\n",
       "    }\n",
       "</style>\n",
       "<table border=\"1\" class=\"dataframe\">\n",
       "  <thead>\n",
       "    <tr style=\"text-align: right;\">\n",
       "      <th></th>\n",
       "      <th>X</th>\n",
       "      <th>Y</th>\n",
       "      <th>month</th>\n",
       "      <th>day</th>\n",
       "      <th>FFMC</th>\n",
       "      <th>DMC</th>\n",
       "      <th>DC</th>\n",
       "      <th>ISI</th>\n",
       "      <th>temp</th>\n",
       "      <th>RH</th>\n",
       "      <th>wind</th>\n",
       "      <th>rain</th>\n",
       "      <th>area</th>\n",
       "    </tr>\n",
       "  </thead>\n",
       "  <tbody>\n",
       "    <tr>\n",
       "      <th>0</th>\n",
       "      <td>6</td>\n",
       "      <td>5</td>\n",
       "      <td>4</td>\n",
       "      <td>4</td>\n",
       "      <td>81.5</td>\n",
       "      <td>9.1</td>\n",
       "      <td>55.2</td>\n",
       "      <td>2.7</td>\n",
       "      <td>5.8</td>\n",
       "      <td>54</td>\n",
       "      <td>5.8</td>\n",
       "      <td>0.0</td>\n",
       "      <td>4.61</td>\n",
       "    </tr>\n",
       "    <tr>\n",
       "      <th>1</th>\n",
       "      <td>4</td>\n",
       "      <td>4</td>\n",
       "      <td>3</td>\n",
       "      <td>1</td>\n",
       "      <td>87.6</td>\n",
       "      <td>52.2</td>\n",
       "      <td>103.8</td>\n",
       "      <td>5.0</td>\n",
       "      <td>11.0</td>\n",
       "      <td>46</td>\n",
       "      <td>5.8</td>\n",
       "      <td>0.0</td>\n",
       "      <td>0.00</td>\n",
       "    </tr>\n",
       "    <tr>\n",
       "      <th>2</th>\n",
       "      <td>3</td>\n",
       "      <td>4</td>\n",
       "      <td>8</td>\n",
       "      <td>1</td>\n",
       "      <td>91.5</td>\n",
       "      <td>145.4</td>\n",
       "      <td>608.2</td>\n",
       "      <td>10.7</td>\n",
       "      <td>17.1</td>\n",
       "      <td>43</td>\n",
       "      <td>5.4</td>\n",
       "      <td>0.0</td>\n",
       "      <td>0.00</td>\n",
       "    </tr>\n",
       "    <tr>\n",
       "      <th>3</th>\n",
       "      <td>6</td>\n",
       "      <td>5</td>\n",
       "      <td>4</td>\n",
       "      <td>4</td>\n",
       "      <td>81.5</td>\n",
       "      <td>9.1</td>\n",
       "      <td>55.2</td>\n",
       "      <td>2.7</td>\n",
       "      <td>5.8</td>\n",
       "      <td>54</td>\n",
       "      <td>5.8</td>\n",
       "      <td>0.0</td>\n",
       "      <td>10.93</td>\n",
       "    </tr>\n",
       "    <tr>\n",
       "      <th>4</th>\n",
       "      <td>3</td>\n",
       "      <td>3</td>\n",
       "      <td>9</td>\n",
       "      <td>6</td>\n",
       "      <td>92.2</td>\n",
       "      <td>102.3</td>\n",
       "      <td>751.5</td>\n",
       "      <td>8.4</td>\n",
       "      <td>24.2</td>\n",
       "      <td>27</td>\n",
       "      <td>3.1</td>\n",
       "      <td>0.0</td>\n",
       "      <td>6.58</td>\n",
       "    </tr>\n",
       "  </tbody>\n",
       "</table>\n",
       "</div>"
      ],
      "text/plain": [
       "   X  Y  month  day  FFMC    DMC     DC   ISI  temp  RH  wind  rain   area\n",
       "0  6  5      4    4  81.5    9.1   55.2   2.7   5.8  54   5.8   0.0   4.61\n",
       "1  4  4      3    1  87.6   52.2  103.8   5.0  11.0  46   5.8   0.0   0.00\n",
       "2  3  4      8    1  91.5  145.4  608.2  10.7  17.1  43   5.4   0.0   0.00\n",
       "3  6  5      4    4  81.5    9.1   55.2   2.7   5.8  54   5.8   0.0  10.93\n",
       "4  3  3      9    6  92.2  102.3  751.5   8.4  24.2  27   3.1   0.0   6.58"
      ]
     },
     "execution_count": 71,
     "metadata": {},
     "output_type": "execute_result"
    }
   ],
   "source": [
    "df.head()"
   ]
  },
  {
   "cell_type": "code",
   "execution_count": 72,
   "id": "f0c4dbd5",
   "metadata": {},
   "outputs": [],
   "source": [
    "#Assigning Dependent and independent variables\n",
    "X=df.drop('area',axis=1)\n",
    "Y=df['area']"
   ]
  },
  {
   "cell_type": "code",
   "execution_count": 73,
   "id": "b3c9cb10",
   "metadata": {},
   "outputs": [],
   "source": [
    "from sklearn.model_selection import train_test_split\n",
    "x_train,x_test,y_train,y_test = train_test_split(X,Y,test_size = 0.2 , random_state=0)"
   ]
  },
  {
   "cell_type": "code",
   "execution_count": 180,
   "id": "3bd348ec",
   "metadata": {},
   "outputs": [],
   "source": [
    "#Selection of best model using various Regressor Metrices\n",
    "num_instances = len(X)\n",
    "models = []\n",
    "models.append(('Gradient Boost', GradientBoostingRegressor(random_state=0)))\n",
    "models.append(('Decision Tree', DecisionTreeRegressor(random_state=0)))\n",
    "models.append(('Extra Trees', ExtraTreesRegressor(random_state=0)))\n",
    "models.append(('Random Forest',RandomForestRegressor(random_state=0)))\n",
    "models.append(('KNN Regressor', KNeighborsRegressor()))\n",
    "table=[['Model Name','Score','Ex_Var_Score', 'MAE', 'MSE', 'R2_Score(in %)']]\n",
    "name2=[];score2=[];ex_var_score2=[];mae2=[]; mse2=[];r_score2=[];\n",
    "# Evaluations\n",
    "for name, model in models:\n",
    "    name2.append(name);\n",
    "    # Fitting the model\n",
    "    model.fit(x_train, y_train)\n",
    "    y_pred = model.predict(x_test)\n",
    "    # Evaluating the model\n",
    "    score=round(model.score(x_test, y_test),4)\n",
    "    score2.append(score)\n",
    "    ex_var_score = round(explained_variance_score(y_test, y_pred),4)\n",
    "    ex_var_score2.append(ex_var_score)\n",
    "    mae = round(mean_absolute_error(y_test, y_pred),2)\n",
    "    mae2.append(mae)\n",
    "    mse = round(mean_squared_error(y_test, y_pred),2)\n",
    "    mse2.append(mse)\n",
    "    r_score=round(r2_score(y_test, y_pred),4)\n",
    "    r_score2.append(r_score)\n",
    "    table.append([name,score,ex_var_score, mae, mse, r_score*100])    "
   ]
  },
  {
   "cell_type": "code",
   "execution_count": 181,
   "id": "8edcf346",
   "metadata": {},
   "outputs": [
    {
     "name": "stdout",
     "output_type": "stream",
     "text": [
      "+----------------+---------+----------------+-------+---------+------------------+\n",
      "| Model Name     |   Score |   Ex_Var_Score |   MAE |     MSE |   R2_Score(in %) |\n",
      "+================+=========+================+=======+=========+==================+\n",
      "| Gradient Boost |  0.9173 |         0.9173 |  9.78 |  280.53 |            91.73 |\n",
      "+----------------+---------+----------------+-------+---------+------------------+\n",
      "| Decision Tree  |  0.991  |         0.991  |  1.31 |   30.38 |            99.1  |\n",
      "+----------------+---------+----------------+-------+---------+------------------+\n",
      "| Extra Trees    |  0.9329 |         0.9339 |  2.96 |  227.67 |            93.29 |\n",
      "+----------------+---------+----------------+-------+---------+------------------+\n",
      "| Random Forest  |  0.8744 |         0.8779 |  6.84 |  425.89 |            87.44 |\n",
      "+----------------+---------+----------------+-------+---------+------------------+\n",
      "| KNN Regressor  |  0.554  |         0.5541 | 12.97 | 1512.49 |            55.4  |\n",
      "+----------------+---------+----------------+-------+---------+------------------+\n"
     ]
    }
   ],
   "source": [
    "from tabulate import tabulate\n",
    "\n",
    "print(tabulate(table,headers='firstrow',tablefmt='grid'))"
   ]
  },
  {
   "cell_type": "code",
   "execution_count": 175,
   "id": "0450e5c6",
   "metadata": {},
   "outputs": [
    {
     "data": {
      "text/plain": [
       "' Metrices Description and Selection Criterion:\\n1) Score:\\n- Higher the Test Score, Better is the model\\n\\n2) The explained variance score: \\n- It explains the dispersion of errors of a given dataset\\n- Scores close to 1.0 are highly desired, indicating better squares of standard deviations of errors.\\n\\n3) MAE:\\n- Absolute Error = |Actual observation – predicted observation|\\n- This involves adding all the absolute errors and dividing with the total number of observations.\\n- The lower the value of MAE, the result is better.\\n\\n4) MSE:\\n- It is the average of the square of the errors. \\n- The larger the number the larger the error.\\n\\n5) R2_Score:\\n- the proportion of the variance in the dependent variable that is predictable from the independent variable.\\n- if it is 100%, the two variables are perfectly correlated, i.e., with no variance at all.\\n'"
      ]
     },
     "execution_count": 175,
     "metadata": {},
     "output_type": "execute_result"
    }
   ],
   "source": [
    "\"\"\" Metrices Description and Selection Criterion:\n",
    "1) Score:\n",
    "- Higher the Test Score, Better is the model\n",
    "\n",
    "2) The explained variance score: \n",
    "- It explains the dispersion of errors of a given dataset\n",
    "- Scores close to 1.0 are highly desired, indicating better squares of standard deviations of errors.\n",
    "\n",
    "3) MAE:\n",
    "- Absolute Error = |Actual observation – predicted observation|\n",
    "- This involves adding all the absolute errors and dividing with the total number of observations.\n",
    "- The lower the value of MAE, the result is better.\n",
    "\n",
    "4) MSE:\n",
    "- It is the average of the square of the errors. \n",
    "- The larger the number the larger the error.\n",
    "\n",
    "5) R2_Score:\n",
    "- the proportion of the variance in the dependent variable that is predictable from the independent variable.\n",
    "- if it is 100%, the two variables are perfectly correlated, i.e., with no variance at all.\n",
    "\"\"\""
   ]
  },
  {
   "cell_type": "code",
   "execution_count": 176,
   "id": "e6f2416b",
   "metadata": {},
   "outputs": [
    {
     "data": {
      "image/png": "[encoded data removed]",
      "text/plain": [
       "<Figure size 720x576 with 1 Axes>"
      ]
     },
     "metadata": {
      "needs_background": "light"
     },
     "output_type": "display_data"
    }
   ],
   "source": [
    "fig = plt.figure(figsize = (10, 8))\n",
    "# creating the bar plot\n",
    "plt.bar(name2,score2, color ='maroon',\n",
    "        width = 0.5)\n",
    "plt.xlabel(\"Model Name\")\n",
    "plt.ylabel(\"Test Score\")\n",
    "plt.title(\"Comparing Test Scores of various Regressor Models\")\n",
    "plt.show()"
   ]
  },
  {
   "cell_type": "code",
   "execution_count": 177,
   "id": "e0d8cd42",
   "metadata": {},
   "outputs": [
    {
     "data": {
      "image/png": "[encoded data removed]",
      "text/plain": [
       "<Figure size 720x576 with 1 Axes>"
      ]
     },
     "metadata": {
      "needs_background": "light"
     },
     "output_type": "display_data"
    }
   ],
   "source": [
    "fig = plt.figure(figsize = (10, 8))\n",
    "# creating the bar plot\n",
    "plt.bar(name2,ex_var_score2, color ='green',\n",
    "        width = 0.5)\n",
    "plt.xlabel(\"Model Name\")\n",
    "plt.ylabel(\"Explained_Var_Score\")\n",
    "plt.title(\"Comparing Explained Variance Scores of various Regressor Models\")\n",
    "plt.show()"
   ]
  },
  {
   "cell_type": "code",
   "execution_count": 178,
   "id": "ff2b5aa3",
   "metadata": {},
   "outputs": [
    {
     "data": {
      "image/png": "[encoded data removed]",
      "text/plain": [
       "<Figure size 720x576 with 1 Axes>"
      ]
     },
     "metadata": {
      "needs_background": "light"
     },
     "output_type": "display_data"
    }
   ],
   "source": [
    "fig = plt.figure(figsize = (10, 8))\n",
    "# creating the bar plot\n",
    "plt.bar(name2,mae2, color ='orange',\n",
    "        width = 0.5)\n",
    "plt.xlabel(\"Model Name\")\n",
    "plt.ylabel(\"MAE\")\n",
    "plt.title(\"Comparing Mean Absolute Error of various Regressor Models\")\n",
    "plt.show()"
   ]
  },
  {
   "cell_type": "code",
   "execution_count": 170,
   "id": "8674577f",
   "metadata": {},
   "outputs": [
    {
     "data": {
      "image/png": "[encoded data removed]",
      "text/plain": [
       "<Figure size 720x576 with 1 Axes>"
      ]
     },
     "metadata": {
      "needs_background": "light"
     },
     "output_type": "display_data"
    }
   ],
   "source": [
    "fig = plt.figure(figsize = (10, 8))\n",
    "# creating the bar plot\n",
    "plt.bar(name2,mse2, color ='darkviolet',\n",
    "        width = 0.5)\n",
    "plt.xlabel(\"Model Name\")\n",
    "plt.ylabel(\"MSE\")\n",
    "plt.title(\"Comparing Mean Squared Error of various Regressor Models\")\n",
    "plt.show()"
   ]
  },
  {
   "cell_type": "code",
   "execution_count": 171,
   "id": "e430cb57",
   "metadata": {},
   "outputs": [
    {
     "data": {
      "image/png": "[encoded data removed]",
      "text/plain": [
       "<Figure size 720x576 with 1 Axes>"
      ]
     },
     "metadata": {
      "needs_background": "light"
     },
     "output_type": "display_data"
    }
   ],
   "source": [
    "fig = plt.figure(figsize = (10, 8))\n",
    "# creating the bar plot\n",
    "plt.bar(name2,r_score2, color ='royalblue',\n",
    "        width = 0.5)\n",
    "plt.xlabel(\"Model Name\")\n",
    "plt.ylabel(\"R2_Score\")\n",
    "plt.title(\"Comparing R2_Score of various Regressor Models\")\n",
    "plt.show()"
   ]
  },
  {
   "cell_type": "code",
   "execution_count": 77,
   "id": "52048b8f",
   "metadata": {},
   "outputs": [],
   "source": [
    "#From Using the criterion above, it is obivious that the Decision Trees Regressor is the Best Model because:\n",
    "#It has the Highest Score in terms of test Score, explained variance score and R2_score\n",
    "#It has Lowest Mean Absolute Error and Mean Squared Error\n",
    "#Thus, Decision Trees Regressor is the Best Model"
   ]
  },
  {
   "cell_type": "code",
   "execution_count": 78,
   "id": "6cbe25f3",
   "metadata": {},
   "outputs": [
    {
     "data": {
      "text/plain": [
       "DecisionTreeRegressor(random_state=0)"
      ]
     },
     "execution_count": 78,
     "metadata": {},
     "output_type": "execute_result"
    }
   ],
   "source": [
    "#Fitting model using Decision Trees Regressor\n",
    "DTR = DecisionTreeRegressor(random_state=0)\n",
    "DTR.fit(x_train,y_train)"
   ]
  },
  {
   "cell_type": "code",
   "execution_count": 179,
   "id": "fab7d934",
   "metadata": {},
   "outputs": [
    {
     "name": "stdout",
     "output_type": "stream",
     "text": [
      "Using Decision Tree Regressor: \n",
      "Test Accuracy: 0.9910\n",
      "Train Accuracy: 1.0000\n"
     ]
    }
   ],
   "source": [
    "test_score_DTR=DTR.score(x_test,y_test)\n",
    "train_score_DTR=DTR.score(x_train,y_train)\n",
    "\n",
    "print(\"Using Decision Tree Regressor: \")\n",
    "print(\"Test Accuracy: {:.4f}\".format(test_score_DTR))\n",
    "print(\"Train Accuracy: {:.4f}\".format(train_score_DTR))\n"
   ]
  },
  {
   "cell_type": "code",
   "execution_count": 80,
   "id": "58df018e",
   "metadata": {},
   "outputs": [
    {
     "data": {
      "text/plain": [
       "X          int64\n",
       "Y          int64\n",
       "month      int64\n",
       "day        int64\n",
       "FFMC     float64\n",
       "DMC      float64\n",
       "DC       float64\n",
       "ISI      float64\n",
       "temp     float64\n",
       "RH         int64\n",
       "wind     float64\n",
       "rain     float64\n",
       "dtype: object"
      ]
     },
     "execution_count": 80,
     "metadata": {},
     "output_type": "execute_result"
    }
   ],
   "source": [
    "#Input Parameters\n",
    "X.dtypes"
   ]
  },
  {
   "cell_type": "code",
   "execution_count": 81,
   "id": "5106106e",
   "metadata": {},
   "outputs": [],
   "source": [
    "# Categorising Forest Fire Damage Function\n",
    "def area_cat(area):\n",
    "    if area == 0.0:\n",
    "        return \"No damage\"\n",
    "    elif area <= 1:\n",
    "        return \"Low Damage\"\n",
    "    elif area <= 25:\n",
    "        return \"Moderate \"\n",
    "    elif area <= 100:\n",
    "        return \"High\"\n",
    "    else:\n",
    "        return \"Very High\""
   ]
  },
  {
   "cell_type": "code",
   "execution_count": 82,
   "id": "84b35619",
   "metadata": {},
   "outputs": [],
   "source": [
    "#Prediction Function\n",
    "def showPrediction(test_data):\n",
    "    pred=DTR.predict([test_data])\n",
    "    print(\"Area Burned: {} ha\".format(pred) )\n",
    "    print(\"Predicted: \",area_cat(pred))"
   ]
  },
  {
   "cell_type": "code",
   "execution_count": 83,
   "id": "2902dbf6",
   "metadata": {},
   "outputs": [
    {
     "name": "stdout",
     "output_type": "stream",
     "text": [
      "0.00 No damage\n",
      "26.00 High\n",
      "6.54 Moderate \n",
      "6.30 Moderate \n",
      "0.00 No damage\n",
      "36.85 High\n",
      "0.00 No damage\n",
      "1.61 Moderate \n",
      "1.43 Moderate \n",
      "12.64 Moderate \n",
      "2.47 Moderate \n",
      "0.00 No damage\n",
      "0.00 No damage\n",
      "42.87 High\n",
      "0.00 No damage\n",
      "0.00 No damage\n",
      "6.44 Moderate \n",
      "0.00 No damage\n",
      "0.00 No damage\n",
      "0.00 No damage\n",
      "746.28 Very High\n",
      "37.71 High\n",
      "0.00 No damage\n",
      "3.07 Moderate \n",
      "6.43 Moderate \n",
      "0.90 Low Damage\n",
      "1.36 Moderate \n",
      "0.00 No damage\n",
      "37.71 High\n",
      "0.00 No damage\n",
      "8.85 Moderate \n",
      "54.29 High\n",
      "3.07 Moderate \n",
      "0.00 No damage\n",
      "0.00 No damage\n",
      "0.00 No damage\n",
      "0.00 No damage\n",
      "0.00 No damage\n",
      "0.00 No damage\n",
      "95.18 High\n",
      "0.00 No damage\n",
      "0.00 No damage\n",
      "6.43 Moderate \n",
      "0.00 No damage\n",
      "86.45 High\n",
      "0.00 No damage\n",
      "0.00 No damage\n",
      "0.00 No damage\n",
      "3.64 Moderate \n",
      "0.00 No damage\n",
      "1.09 Moderate \n",
      "1.75 Moderate \n",
      "8.98 Moderate \n",
      "0.00 No damage\n",
      "8.31 Moderate \n",
      "0.00 No damage\n",
      "0.84 Low Damage\n",
      "0.00 No damage\n",
      "1.19 Moderate \n",
      "0.00 No damage\n",
      "6.36 Moderate \n",
      "2.47 Moderate \n",
      "10.08 Moderate \n",
      "95.18 High\n",
      "0.00 No damage\n",
      "0.00 No damage\n",
      "0.00 No damage\n",
      "2.00 Moderate \n",
      "0.00 No damage\n",
      "3.35 Moderate \n",
      "0.00 No damage\n",
      "0.00 No damage\n",
      "0.00 No damage\n",
      "3.94 Moderate \n",
      "0.00 No damage\n",
      "0.00 No damage\n",
      "1.61 Moderate \n",
      "7.31 Moderate \n",
      "9.27 Moderate \n",
      "95.18 High\n",
      "26.13 High\n",
      "15.64 Moderate \n",
      "0.00 No damage\n",
      "0.00 No damage\n",
      "1.47 Moderate \n",
      "0.00 No damage\n",
      "7.36 Moderate \n",
      "0.00 No damage\n",
      "3.71 Moderate \n",
      "5.44 Moderate \n",
      "0.00 No damage\n",
      "9.27 Moderate \n",
      "278.53 Very High\n",
      "0.00 No damage\n",
      "0.43 Low Damage\n",
      "9.27 Moderate \n",
      "16.00 Moderate \n",
      "0.00 No damage\n",
      "0.00 No damage\n",
      "0.43 Low Damage\n",
      "1.11 Moderate \n",
      "0.00 No damage\n",
      "0.00 No damage\n",
      "4.88 Moderate \n",
      "0.00 No damage\n",
      "13.05 Moderate \n",
      "4.95 Moderate \n",
      "1.76 Moderate \n",
      "2.53 Moderate \n",
      "6.96 Moderate \n",
      "0.00 No damage\n",
      "0.00 No damage\n",
      "4.25 Moderate \n",
      "0.00 No damage\n",
      "1.61 Moderate \n",
      "0.00 No damage\n",
      "7.40 Moderate \n",
      "3.33 Moderate \n",
      "0.00 No damage\n",
      "11.19 Moderate \n",
      "37.02 High\n",
      "11.06 Moderate \n",
      "0.00 No damage\n",
      "5.39 Moderate \n",
      "1.94 Moderate \n",
      "0.00 No damage\n",
      "15.83 Moderate \n",
      "13.05 Moderate \n",
      "0.00 No damage\n",
      "0.00 No damage\n",
      "1.23 Moderate \n",
      "71.30 High\n",
      "0.00 No damage\n",
      "0.00 No damage\n",
      "0.00 No damage\n",
      "2.74 Moderate \n",
      "0.00 No damage\n",
      "0.00 No damage\n",
      "6.61 Moderate \n",
      "1.61 Moderate \n",
      "19.23 Moderate \n",
      "0.84 Low Damage\n",
      "0.00 No damage\n",
      "2.13 Moderate \n",
      "9.36 Moderate \n",
      "11.53 Moderate \n",
      "0.00 No damage\n",
      "5.19 Moderate \n",
      "0.00 No damage\n",
      "2.47 Moderate \n",
      "27.35 High\n",
      "9.27 Moderate \n",
      "15.45 Moderate \n",
      "5.19 Moderate \n",
      "0.00 No damage\n",
      "29.48 High\n",
      "0.00 No damage\n",
      "0.00 No damage\n",
      "5.83 Moderate \n",
      "103.39 Very High\n",
      "15.64 Moderate \n",
      "1.61 Moderate \n",
      "0.00 No damage\n",
      "0.00 No damage\n",
      "1.72 Moderate \n",
      "0.00 No damage\n",
      "0.00 No damage\n",
      "0.00 No damage\n",
      "9.41 Moderate \n",
      "0.00 No damage\n",
      "0.00 No damage\n",
      "29.48 High\n",
      "7.02 Moderate \n",
      "1.23 Moderate \n",
      "6.43 Moderate \n",
      "0.00 No damage\n",
      "0.00 No damage\n",
      "0.00 No damage\n",
      "0.00 No damage\n",
      "0.00 No damage\n",
      "0.00 No damage\n",
      "0.00 No damage\n",
      "0.47 Low Damage\n",
      "2.44 Moderate \n",
      "7.77 Moderate \n",
      "0.00 No damage\n",
      "0.00 No damage\n",
      "103.39 Very High\n",
      "2.18 Moderate \n",
      "11.19 Moderate \n",
      "70.76 High\n",
      "0.00 No damage\n",
      "0.00 No damage\n",
      "3.94 Moderate \n",
      "2.14 Moderate \n",
      "0.00 No damage\n",
      "0.00 No damage\n",
      "6.58 Moderate \n",
      "0.00 No damage\n",
      "0.00 No damage\n"
     ]
    }
   ],
   "source": [
    "#Predicted values for the test_values\n",
    "pred=DTR.predict(x_test)\n",
    "for i in pred:\n",
    "    print(\"{:.2f} {}\".format(i,area_cat(i)))"
   ]
  },
  {
   "cell_type": "code",
   "execution_count": 172,
   "id": "570b6219",
   "metadata": {},
   "outputs": [
    {
     "name": "stdout",
     "output_type": "stream",
     "text": [
      "Area Burned: [0.24] ha\n",
      "Predicted:  Low Damage\n",
      "Area Burned: [0.] ha\n",
      "Predicted:  No damage\n"
     ]
    }
   ],
   "source": [
    "#Using prediction function on sample values considering data is obtained from Sensors:\n",
    "sample_data1 = [8,5,8,3,93.1,157.3,666.7,13.5,24,36,3.1,0]\n",
    "showPrediction(sample_data1)\n",
    "\n",
    "sample_data2 = [4,5,3,5,91.7,33.3,77.5,9,17.2,26,4.5,0]\n",
    "showPrediction(sample_data2)"
   ]
  }
 ],
 "metadata": {
  "interpreter": {
   "hash": "6d46af94c2bbce495f1e668725902fa517c90b1782bcfe2fce0dd9868df553d3"
  },
  "kernelspec": {
   "display_name": "Python 3.8.8 64-bit ('base': conda)",
   "name": "python3"
  },
  "language_info": {
   "codemirror_mode": {
    "name": "ipython",
    "version": 3
   },
   "file_extension": ".py",
   "mimetype": "text/x-python",
   "name": "python",
   "nbconvert_exporter": "python",
   "pygments_lexer": "ipython3",
   "version": "3.8.8"
  }
 },
 "nbformat": 4,
 "nbformat_minor": 5
}
